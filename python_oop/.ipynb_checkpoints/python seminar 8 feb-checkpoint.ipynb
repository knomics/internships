{
 "cells": [
  {
   "cell_type": "markdown",
   "metadata": {},
   "source": [
    "# 0. Семинар по Python\n",
    "8 февраля 2017  \n",
    "Атлас"
   ]
  },
  {
   "cell_type": "markdown",
   "metadata": {},
   "source": [
    "# 1. Общее"
   ]
  },
  {
   "cell_type": "markdown",
   "metadata": {},
   "source": [
    "Классный гайд с юмором: The Hitchhiker’s Guide to Python http://docs.python-guide.org/en/latest/"
   ]
  },
  {
   "cell_type": "markdown",
   "metadata": {},
   "source": [
    "* Python - интерпретируемый язык\n",
    "* Две версии в активной разработке: 2 и 3\n",
    "* в работе с текстами проще использовать версию 3 за счёт того что все строки в Unicode\n",
    "* далее примеры даны в python 3\n",
    "* python 2 следует использовать, если очень нужны какие-то пакеты, которые не поддерживают 3 версию"
   ]
  },
  {
   "cell_type": "markdown",
   "metadata": {},
   "source": [
    "## Типы: immutable (неизменяемые), mutable (изменяемые)"
   ]
  },
  {
   "cell_type": "markdown",
   "metadata": {},
   "source": [
    "Почитать вот здесь: http://docs.python-guide.org/en/latest/writing/gotchas/"
   ]
  },
  {
   "cell_type": "markdown",
   "metadata": {},
   "source": [
    "The value of some objects can change. Objects whose value can change are said to be mutable; objects whose value is unchangeable once they are created are called immutable (строго говоря)"
   ]
  },
  {
   "cell_type": "markdown",
   "metadata": {},
   "source": [
    "Неизменяемые - int, bool, строки, tuple, byte\n",
    "Изменяемые - коллекции (list, dict)"
   ]
  },
  {
   "cell_type": "code",
   "execution_count": 3,
   "metadata": {
    "collapsed": false
   },
   "outputs": [
    {
     "name": "stdout",
     "output_type": "stream",
     "text": [
      "[1]\n",
      "[1, 2]\n"
     ]
    }
   ],
   "source": [
    "a = []\n",
    "\n",
    "a.append(1)\n",
    "\n",
    "print(a)\n",
    "\n",
    "a.append(2)\n",
    "print(a)"
   ]
  },
  {
   "cell_type": "code",
   "execution_count": 7,
   "metadata": {
    "collapsed": false
   },
   "outputs": [
    {
     "name": "stdout",
     "output_type": "stream",
     "text": [
      "[1]\n"
     ]
    }
   ],
   "source": [
    "def foo(a, b=[]):\n",
    "    b.append(a)\n",
    "    return b\n",
    "\n",
    "def foo(a, b=None):\n",
    "    if b is None:\n",
    "        b = []\n",
    "    b.append(a)\n",
    "    return b\n",
    "\n",
    "\n",
    "\n",
    "print(foo(1))"
   ]
  },
  {
   "cell_type": "code",
   "execution_count": 8,
   "metadata": {
    "collapsed": false
   },
   "outputs": [
    {
     "name": "stdout",
     "output_type": "stream",
     "text": [
      "[2]\n"
     ]
    }
   ],
   "source": [
    "print(foo(2))"
   ]
  },
  {
   "cell_type": "markdown",
   "metadata": {},
   "source": [
    "# 2. Naming convention & читабельность кода"
   ]
  },
  {
   "cell_type": "markdown",
   "metadata": {},
   "source": [
    "> **“Code is read much more often than it is written. Design for readability.”**\n",
    "\n",
    "(Raymond Chen)\n",
    "\n",
    "> **“Programs must be written for people to read, and only incidentally for machines to execute.”**\n",
    "\n",
    "(Harold Abelson)"
   ]
  },
  {
   "cell_type": "markdown",
   "metadata": {},
   "source": [
    "* Официальный гайд: PEP 8 -- Style Guide for Python Code https://www.python.org/dev/peps/pep-0008/\n",
    "* Мы пишем код для других\n",
    "* Понятные имена переменных (не бойтесь, что получается не очень коротко)\n",
    "* Комментарии к **алгоритмам** - это хорошо. Избегайте очевидных комментариев \n",
    "* Меньше if'ов и ветвлений, например:"
   ]
  },
  {
   "cell_type": "code",
   "execution_count": 10,
   "metadata": {
    "collapsed": false
   },
   "outputs": [
    {
     "name": "stdout",
     "output_type": "stream",
     "text": [
      "arg is a\n",
      "arg is not a\n",
      "\n",
      "\n",
      "arg is a\n",
      "arg is not a\n"
     ]
    }
   ],
   "source": [
    "def foo_bad(arg):\n",
    "    if arg == 'a':\n",
    "        print('arg is a')\n",
    "    else:\n",
    "        print('arg is not a')\n",
    "        \n",
    "def foo_good(arg):\n",
    "    if arg == 'a':\n",
    "        print('arg is a')\n",
    "        return\n",
    "    print('arg is not a')\n",
    "\n",
    "foo_bad('a')\n",
    "foo_bad('b')\n",
    "\n",
    "print('\\n')\n",
    "\n",
    "foo_good('a')\n",
    "foo_good('c')"
   ]
  },
  {
   "cell_type": "markdown",
   "metadata": {},
   "source": [
    "## Документация к функции"
   ]
  },
  {
   "cell_type": "code",
   "execution_count": 10,
   "metadata": {
    "collapsed": true
   },
   "outputs": [],
   "source": [
    "def foo(a, b):\n",
    "    \"\"\"\n",
    "    Function returns the sum of a and b\n",
    "    \n",
    "    :param a: a first number\n",
    "    :param b: a second number\n",
    "    :return: the sum\n",
    "    \"\"\"\n",
    "    return a + b"
   ]
  },
  {
   "cell_type": "markdown",
   "metadata": {},
   "source": [
    "* такой формат понимают автогенераторы документации\n",
    "* всё что между (не считая самих описаний) \"\"\" PyCharm создаёт автоматически"
   ]
  },
  {
   "cell_type": "markdown",
   "metadata": {},
   "source": [
    "# 3. Объектно-ориентированное программирование (ООП)"
   ]
  },
  {
   "cell_type": "markdown",
   "metadata": {},
   "source": [
    "* Объект - это **экземпляр класса**\n",
    "* Можно думать об объектах как об объектах в реальном мире\n",
    "* В программировании объекты описываются **полями** и **методами**"
   ]
  },
  {
   "cell_type": "code",
   "execution_count": 11,
   "metadata": {
    "collapsed": false
   },
   "outputs": [
    {
     "name": "stdout",
     "output_type": "stream",
     "text": [
      "Baikal\n",
      "quack!\n",
      "The lake is Baikal\n"
     ]
    }
   ],
   "source": [
    "class Duck:\n",
    "    def __init__(self):\n",
    "        self.lake_name = 'Baikal'\n",
    "    \n",
    "    def quack(self):\n",
    "        print(self.lake_name)\n",
    "        print('quack!')\n",
    "        \n",
    "duck = Duck()\n",
    "duck.quack()\n",
    "print('The lake is %s' % duck.lake_name)"
   ]
  },
  {
   "cell_type": "markdown",
   "metadata": {},
   "source": [
    "![](./files/ytka4.jpg)"
   ]
  },
  {
   "cell_type": "markdown",
   "metadata": {},
   "source": [
    "![](./files/24365.jpg)"
   ]
  },
  {
   "cell_type": "markdown",
   "metadata": {},
   "source": [
    "![](./files/8lCFcC_THpg.jpg)"
   ]
  },
  {
   "cell_type": "markdown",
   "metadata": {},
   "source": [
    "![](./files/Donald_Duck.svg.png)"
   ]
  },
  {
   "cell_type": "code",
   "execution_count": 22,
   "metadata": {
    "collapsed": false,
    "scrolled": true
   },
   "outputs": [
    {
     "name": "stdout",
     "output_type": "stream",
     "text": [
      "quack!\n",
      "$$!\n"
     ]
    }
   ],
   "source": [
    "class RealDuck:\n",
    "    def quack(self):\n",
    "        print('quack!')\n",
    "\n",
    "class RubberDuck:\n",
    "    def quack(self):\n",
    "        print('rubber quack!')\n",
    "\n",
    "class DonaldDuck:\n",
    "    def quack(self):\n",
    "        print('$$!')\n",
    "        \n",
    "real_duck = RealDuck()\n",
    "real_duck.quack()\n",
    "\n",
    "donald_duck = DonaldDuck()\n",
    "donald_duck.quack()"
   ]
  },
  {
   "cell_type": "code",
   "execution_count": 12,
   "metadata": {
    "collapsed": false
   },
   "outputs": [
    {
     "name": "stdout",
     "output_type": "stream",
     "text": [
      "rubber quack!\n",
      "['$', '$', '$', '$', '$', '$']\n"
     ]
    }
   ],
   "source": [
    "# Now the right way to do it\n",
    "import abc\n",
    "\n",
    "# abstract class (it also called an interface when all methods are abstract)\n",
    "class Duck(object):\n",
    "    __metaclass__ = abc.ABCMeta\n",
    "\n",
    "    @abc.abstractmethod\n",
    "    def quack(self):\n",
    "        raise Exception('Not implemented')\n",
    "\n",
    "class RubberDuck(Duck):\n",
    "    def quack(self):\n",
    "        print('rubber quack!')\n",
    "        \n",
    "class DonaldDuck(Duck):\n",
    "    def __init__(self, a, b):\n",
    "        self.money = a * b\n",
    "    \n",
    "    def quack(self):\n",
    "        result = ['$'] * self.money\n",
    "        print(result)\n",
    "        \n",
    "        \n",
    "def any_duck_say_quack(duck):\n",
    "    # this method has no idea which exactly duck is it\n",
    "    # it only knows that duck can quack()!\n",
    "    duck.quack()\n",
    "        \n",
    "rubber_duck = RubberDuck()\n",
    "donald_duck = DonaldDuck(2, 3)\n",
    "\n",
    "any_duck_say_quack(rubber_duck)\n",
    "any_duck_say_quack(donald_duck)"
   ]
  },
  {
   "cell_type": "markdown",
   "metadata": {},
   "source": [
    "## Три столпа\n",
    "**Наследование** - наследование  \n",
    "**Инкапсуляция** - \"сокрытие\" данных (нарисовать кота)  \n",
    "**Полиморфизм** - см. пример выше\n"
   ]
  },
  {
   "cell_type": "markdown",
   "metadata": {},
   "source": [
    "* Большое значение имеет то, как связаны между собой классы и объекты\n",
    "* Наследование - самые жёсткий тип связи\n",
    "* Существуют *паттерны проектирования* и *принципы проектирования*\n",
    "* Один из принципов: \"Программируйте на уровне интерфейса, а не на уровне реализоации\"\n",
    "* Зачем вообще заморачиваться объектами!?!? Ответ: чтобы построить гибкую систему, адаптированную к ***изменениям***\n",
    "* В питоне ООП не всегда полезно\n",
    "* Часто в питоне мы хотим сделать класс для удобства и читабельности:"
   ]
  },
  {
   "cell_type": "code",
   "execution_count": 13,
   "metadata": {
    "collapsed": false
   },
   "outputs": [
    {
     "name": "stdout",
     "output_type": "stream",
     "text": [
      "[3, 2]\n",
      "3\n",
      "2\n"
     ]
    }
   ],
   "source": [
    "# bad (sometimes)\n",
    "def foo_bad(a, b):\n",
    "    c = a + b\n",
    "    d = a * b\n",
    "    return [c, d]\n",
    "\n",
    "# good (sometimes)\n",
    "class FooOutput:\n",
    "    def __init__(self, sum_var, mult_var):\n",
    "        self.sum_var = sum_var\n",
    "        self.mult_var = mult_var\n",
    "        \n",
    "def foo_good(a, b):\n",
    "    c = a + b\n",
    "    d = a * b\n",
    "    return FooOutput(sum_var=c, mult_var=d)\n",
    "\n",
    "print(foo_bad(1,2))\n",
    "\n",
    "foo_output = foo_good(1,2)\n",
    "foo_output[0]\n",
    "print(foo_output.sum_var)\n",
    "print(foo_output.mult_var)"
   ]
  },
  {
   "cell_type": "markdown",
   "metadata": {},
   "source": [
    "# 4. Инструменты\n"
   ]
  },
  {
   "cell_type": "markdown",
   "metadata": {},
   "source": [
    "## Virtual environment (вирутальное окружение)"
   ]
  },
  {
   "cell_type": "markdown",
   "metadata": {},
   "source": [
    "* **MUST HAVE**\n",
    "* суть в создании абстрагированного от системы интепретатора питона под проект\n",
    "* (нарисовать на доске)\n",
    "* (показать пример в консоли)"
   ]
  },
  {
   "cell_type": "markdown",
   "metadata": {},
   "source": [
    "## PyCharm\n",
    "IDE от JetBrains\n",
    "\n",
    "* debug\n",
    "* version control system\n",
    "* code templates\n",
    "* быстрая документация к функциям\n",
    "* подсказки для библиотек\n",
    "* интрументы для работы с БД\n",
    "* интерактивная консоль (в том числе поддержка IPython Notebook)\n",
    "* удалённый интепретатор! Чтобы дебажить\\тестить код, когда он уже развёрнут на Amazon машине\n",
    "\n"
   ]
  },
  {
   "cell_type": "markdown",
   "metadata": {},
   "source": [
    "# 5. Тесты (автоматические)"
   ]
  },
  {
   "cell_type": "markdown",
   "metadata": {},
   "source": [
    "## Модульные"
   ]
  },
  {
   "cell_type": "markdown",
   "metadata": {},
   "source": [
    "* отвечают на вопрос \"работает ли этот небольшой участок кода?\"\n",
    "* обычно работают в трёх понятиях: \n",
    "    * **target** - объект\\функция, которая тестируется\n",
    "    * **expected** - ожидаемый аутпут\n",
    "    * **actual** - действительный аутпут\n",
    "* проверяют, соответствует ли **actual** **expected**\n",
    "* могут существовать без **expected** в полном виде - например, можно проверять, что количество элементов в массиве такое как мы ожидаем; или что были созданы необходимые папки; и т.д."
   ]
  },
  {
   "cell_type": "code",
   "execution_count": 17,
   "metadata": {
    "collapsed": false
   },
   "outputs": [],
   "source": [
    "import unittest\n",
    "\n",
    "def foo(a, b):\n",
    "    return a + b\n",
    "\n",
    "class TestCase(unittest.TestCase):\n",
    "    def test_foo(self):\n",
    "        a = 3\n",
    "        b = 2\n",
    "        expected = 5\n",
    "        actual = foo(a, b)\n",
    "        self.assertEqual(expected, actual)\n"
   ]
  },
  {
   "cell_type": "code",
   "execution_count": 13,
   "metadata": {
    "collapsed": false
   },
   "outputs": [
    {
     "ename": "ImportError",
     "evalue": "No module named 'pandas'",
     "output_type": "error",
     "traceback": [
      "\u001b[1;31m---------------------------------------------------------------------------\u001b[0m",
      "\u001b[1;31mImportError\u001b[0m                               Traceback (most recent call last)",
      "\u001b[1;32m<ipython-input-13-5d3d1e08849d>\u001b[0m in \u001b[0;36m<module>\u001b[1;34m()\u001b[0m\n\u001b[0;32m      1\u001b[0m \u001b[1;32mimport\u001b[0m \u001b[0munittest\u001b[0m\u001b[1;33m\u001b[0m\u001b[0m\n\u001b[0;32m      2\u001b[0m \u001b[1;33m\u001b[0m\u001b[0m\n\u001b[1;32m----> 3\u001b[1;33m \u001b[1;32mimport\u001b[0m \u001b[0mpandas\u001b[0m \u001b[1;32mas\u001b[0m \u001b[0mpd\u001b[0m\u001b[1;33m\u001b[0m\u001b[0m\n\u001b[0m\u001b[0;32m      4\u001b[0m \u001b[1;32mfrom\u001b[0m \u001b[0mpandas\u001b[0m\u001b[1;33m.\u001b[0m\u001b[0mutil\u001b[0m\u001b[1;33m.\u001b[0m\u001b[0mtesting\u001b[0m \u001b[1;32mimport\u001b[0m \u001b[0massert_frame_equal\u001b[0m\u001b[1;33m\u001b[0m\u001b[0m\n\u001b[0;32m      5\u001b[0m \u001b[1;33m\u001b[0m\u001b[0m\n",
      "\u001b[1;31mImportError\u001b[0m: No module named 'pandas'"
     ]
    }
   ],
   "source": [
    "import unittest\n",
    "\n",
    "import pandas as pd\n",
    "from pandas.util.testing import assert_frame_equal\n",
    "\n",
    "from brightbox.core.tools import calculate_weights\n",
    "from brightbox.test.helper import prepare_df_to_compare, assert_frame_equal_easy\n",
    "from brightbox.core.constants import FIELD_LAT_BIN, FIELD_LON_BIN, FIELD_CITY_POSIX, FIELD_DATE, \\\n",
    "    FIELD_DEVICE, FIELD_WEIGHT_HOUR_VALUE, FIELD_FILTER_COMB_ID, FIELD_WEIGHT_UNIQUE, FIELD_WEIGHT, \\\n",
    "    FIELD_QUAD_KEY\n",
    "\n",
    "\n",
    "class TestCase(unittest.TestCase):\n",
    "    def test_calculate_weights(self):\n",
    "        test_input = get_input_test_data()\n",
    "        expected = get_calculate_weights_output()\n",
    "        actual = calculate_weights(test_input)\n",
    "        assert_frame_equal(expected.sort_index(axis=1), actual.sort_index(axis=1))\n",
    "\n",
    "def get_input_test_data():\n",
    "    data_test = pd.DataFrame({FIELD_LAT_BIN: [1, 1, 3, 4, 5],\n",
    "\n",
    "                              FIELD_LON_BIN: [1, 1, 3, 4, 5],\n",
    "\n",
    "                              FIELD_CITY_POSIX: [86400, 86400, 2, 2, 345],\n",
    "\n",
    "                              FIELD_DATE: ['2015-12-18', '2015-12-17', '2015-12-16', '2015-12-10',\n",
    "                                           '2015-11-01'],\n",
    "\n",
    "                              FIELD_DEVICE: pd.Categorical(\n",
    "                                  ['device1', 'device1', 'device2', 'device2',\n",
    "                                   'device3']),\n",
    "\n",
    "                              FIELD_WEIGHT_HOUR_VALUE: [1, 1, 2, 1, 1],\n",
    "                              FIELD_FILTER_COMB_ID: [1, 1, 1, 2, 1],\n",
    "                              FIELD_QUAD_KEY: pd.Categorical(\n",
    "                                  ['12222222121121122', '12222222121121122', '12222212221222122',\n",
    "                                   '12222212112112220', '12222211122211102'])})\n",
    "    return data_test\n",
    "\n",
    "def get_calculate_weights_output():\n",
    "    data_test = pd.DataFrame({FIELD_LAT_BIN: [1, 3, 4, 5],\n",
    "\n",
    "                              FIELD_LON_BIN: [1, 3, 4, 5],\n",
    "\n",
    "                              FIELD_WEIGHT: [2, 2, 1, 1],\n",
    "\n",
    "                              FIELD_WEIGHT_UNIQUE: [1, 1, 1, 1],\n",
    "\n",
    "                              FIELD_FILTER_COMB_ID: [1, 1, 2, 1],\n",
    "\n",
    "                              FIELD_QUAD_KEY: pd.Categorical(\n",
    "                                  ['12222222121121122', '12222212221222122', '12222212112112220',\n",
    "                                   '12222211122211102'])})\n",
    "    return data_test\n"
   ]
  },
  {
   "cell_type": "markdown",
   "metadata": {},
   "source": [
    "## Интеграционные "
   ]
  },
  {
   "cell_type": "markdown",
   "metadata": {},
   "source": [
    "* проверяют, что множество компонентов работают вместе (в нашей интерпретации)\n",
    "* это, например, может быть тестом пайплайна\n",
    "* главная задача теста - убедиться, что не возникает ошибок в ходе пайплайна, то есть что он вообще работает"
   ]
  },
  {
   "cell_type": "markdown",
   "metadata": {},
   "source": [
    "![](./files/UnitTest_en.png)"
   ]
  },
  {
   "cell_type": "markdown",
   "metadata": {},
   "source": [
    "# The end"
   ]
  },
  {
   "cell_type": "markdown",
   "metadata": {},
   "source": [
    "![](./files/20004519.jpg)"
   ]
  }
 ],
 "metadata": {
  "kernelspec": {
   "display_name": "Python 3",
   "language": "python",
   "name": "python3"
  },
  "language_info": {
   "codemirror_mode": {
    "name": "ipython",
    "version": 3
   },
   "file_extension": ".py",
   "mimetype": "text/x-python",
   "name": "python",
   "nbconvert_exporter": "python",
   "pygments_lexer": "ipython3",
   "version": "3.4.5"
  }
 },
 "nbformat": 4,
 "nbformat_minor": 0
}
