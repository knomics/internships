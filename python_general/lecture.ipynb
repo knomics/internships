{
 "cells": [
  {
   "cell_type": "markdown",
   "metadata": {},
   "source": [
    "# Лекция: программирование в Python"
   ]
  },
  {
   "cell_type": "markdown",
   "metadata": {},
   "source": [
    "## 1 Общая информация о Python\n",
    "\n",
    "* Python - *интерпретируемый* язык\n",
    "* Две версии в активной разработке: 2 и 3\n",
    "    - в работе с текстами проще использовать версию 3 за счёт того что все строки в Unicode\n",
    "    - далее в лекции примеры даны в python 3\n",
    "    \n",
    "### Немного о ссылках\n",
    "\n",
    "* Каждая переменная - указатель на область памяти\n"
   ]
  },
  {
   "cell_type": "code",
   "execution_count": 13,
   "metadata": {
    "collapsed": false
   },
   "outputs": [
    {
     "name": "stdout",
     "output_type": "stream",
     "text": [
      "[1, 2, 3, 4]\n"
     ]
    }
   ],
   "source": [
    "a = [1, 2, 3]\n",
    "b = a\n",
    "\n",
    "a.append(4)\n",
    "\n",
    "print(b)"
   ]
  },
  {
   "cell_type": "markdown",
   "metadata": {},
   "source": [
    "## 2 Работа со строками, файлами, коллекциями"
   ]
  },
  {
   "cell_type": "markdown",
   "metadata": {},
   "source": [
    "### Самые топовые операции"
   ]
  },
  {
   "cell_type": "code",
   "execution_count": 40,
   "metadata": {
    "collapsed": false
   },
   "outputs": [
    {
     "name": "stdout",
     "output_type": "stream",
     "text": [
      "abc\n",
      "bbc\n",
      "True\n",
      "['A', 'B', 'C', 'D']\n",
      "Hello MIPT, 2 and 4.56\n",
      "['A file with', 'several', 'lines']\n"
     ]
    }
   ],
   "source": [
    "print( '  abc '.strip() ) # обрезать пробелы\n",
    "print( 'abc'.replace('a', 'b') ) # замена символа\n",
    "print( 'ab' in 'abc') # проверка присутствия подстроки\n",
    "print( [char.upper() for char in 'abcd'] ) # пройтись посимвольно коротким for, применив операцию\n",
    "print( 'Hello %s, %i and %0.2f' % ('MIPT', 2, 4.5555)) # format\n",
    "print( 'A file with\\nseveral\\nlines'.splitlines() ) # разделить строку по \\n"
   ]
  },
  {
   "cell_type": "markdown",
   "metadata": {},
   "source": [
    "### Считывание строк файла без \\n"
   ]
  },
  {
   "cell_type": "code",
   "execution_count": 22,
   "metadata": {
    "collapsed": false
   },
   "outputs": [
    {
     "name": "stdout",
     "output_type": "stream",
     "text": [
      "['>Rosalind_4414', 'DEHKFRYNRCCFNYWMWRITIQKDKGNGRIQPDNVPWDVKSFVCNQTFQNKFGYLVAYIF', 'WRMTTEVKVWLKRMIYCRYWLLQIAMMEDKAFKGFCQHQNSWCMWNQGLYKFIIGFMCYC']\n"
     ]
    }
   ],
   "source": [
    "lines = open('example.txt').read().splitlines()\n",
    "print(lines)"
   ]
  },
  {
   "cell_type": "markdown",
   "metadata": {},
   "source": [
    "### Символ -> число (код ASCII)"
   ]
  },
  {
   "cell_type": "code",
   "execution_count": 10,
   "metadata": {
    "collapsed": false
   },
   "outputs": [
    {
     "name": "stdout",
     "output_type": "stream",
     "text": [
      "65\n",
      "66\n",
      "90\n"
     ]
    }
   ],
   "source": [
    "print(ord('A'))\n",
    "print(ord('B'))\n",
    "print(ord('Z'))"
   ]
  },
  {
   "cell_type": "code",
   "execution_count": 113,
   "metadata": {
    "collapsed": false
   },
   "outputs": [
    {
     "name": "stdout",
     "output_type": "stream",
     "text": [
      "{'C': [1, 2, 3], 'B': 2, 'D': {'E': [4, 5, 6]}, 'A': 1}\n"
     ]
    },
    {
     "data": {
      "text/plain": [
       "{1: '1', 2: '1', 3: '1'}"
      ]
     },
     "execution_count": 113,
     "metadata": {},
     "output_type": "execute_result"
    }
   ],
   "source": [
    "a = {\n",
    "    'A': 1,\n",
    "    'B': 2,\n",
    "    'C': [1,2,3],\n",
    "    'D': {\n",
    "        'E': [4,5,6]\n",
    "    }\n",
    "}\n",
    "\n",
    "print(a)\n",
    "\n",
    "a.keys()\n",
    "\n",
    "a['A']\n",
    "\n",
    "b = [1,2,3,3]\n",
    "[elem for elem in b]\n",
    "\n",
    "{elem: '1' for elem in b}"
   ]
  },
  {
   "cell_type": "markdown",
   "metadata": {},
   "source": [
    "### Получение набора символов"
   ]
  },
  {
   "cell_type": "code",
   "execution_count": 108,
   "metadata": {
    "collapsed": false
   },
   "outputs": [
    {
     "name": "stdout",
     "output_type": "stream",
     "text": [
      "ABCDEFGHIJKLMNOPQRSTUVWXYZ\n",
      "['A', 'B', 'C', 'D', 'E', 'F', 'G', 'H', 'I', 'J', 'K', 'L', 'M', 'N', 'O', 'P', 'Q', 'R', 'S', 'T', 'U', 'V', 'W', 'X', 'Y', 'Z']\n"
     ]
    }
   ],
   "source": [
    "import string\n",
    "import numpy\n",
    "\n",
    "print(string.ascii_uppercase)\n",
    "print([char for char in string.ascii_uppercase])\n",
    "\n",
    "# also call `help(string)`\n"
   ]
  },
  {
   "cell_type": "markdown",
   "metadata": {},
   "source": [
    "\n",
    "Пример получения словаря символов белка (обратите внимание на `enumerate`):"
   ]
  },
  {
   "cell_type": "code",
   "execution_count": 107,
   "metadata": {
    "collapsed": false
   },
   "outputs": [
    {
     "name": "stdout",
     "output_type": "stream",
     "text": [
      "['A', 'C', 'D', 'E', 'F', 'G', 'H', 'I', 'K', 'L', 'M', 'N', 'P', 'Q', 'R', 'S', 'T', 'V', 'W', 'Y']\n"
     ]
    }
   ],
   "source": [
    "string.ascii_uppercase\n",
    "\n",
    "needed_chars = []\n",
    "for char in string.ascii_uppercase:\n",
    "    if char not in non_protein_chars:\n",
    "        needed_chars.append(char)\n",
    "print(needed_chars)"
   ]
  },
  {
   "cell_type": "code",
   "execution_count": 140,
   "metadata": {
    "collapsed": false
   },
   "outputs": [
    {
     "name": "stdout",
     "output_type": "stream",
     "text": [
      "1\n",
      "2\n",
      "3\n",
      "3\n",
      "['g', 'h', 'j']\n",
      "('g', 'h', 'j')\n"
     ]
    },
    {
     "data": {
      "text/plain": [
       "[[(0, 0), (0, 0), (0, 0)],\n",
       " [(0, 0), (0, 0), (0, 0)],\n",
       " [(0, 0), (0, 0), (0, 0)],\n",
       " [(0, 0), (0, 0), (0, 0)]]"
      ]
     },
     "execution_count": 140,
     "metadata": {},
     "output_type": "execute_result"
    }
   ],
   "source": [
    "for i, elem in enumerate(b):\n",
    "    print(elem)\n",
    "    \n",
    "set([1,2,3,3])\n",
    "\n",
    "print(['g', 'h', 'j'])\n",
    "print(tuple(['g', 'h', 'j']))\n",
    "\n",
    "c = [\n",
    "    [0, 0, 0],\n",
    "    [0, 0, 0],\n",
    "    [0, 0, 0]\n",
    "]\n",
    "d = [\n",
    "    [0, 0, 0],\n",
    "    [0, 0, 0],\n",
    "    [0, 0, 0]\n",
    "]\n",
    "\n",
    "e = [\n",
    "    [(0, 0), (0, 1), (0, 1)],\n",
    "    [(0, 1), (0, 1), (0, 1)],\n",
    "    [(0, 1), (0, 1), (0, 1)]\n",
    "]\n",
    "\n",
    "n = 3\n",
    "m = 4\n",
    "\n",
    "[[(0,0)]*n]*m"
   ]
  },
  {
   "cell_type": "code",
   "execution_count": 135,
   "metadata": {
    "collapsed": false
   },
   "outputs": [
    {
     "name": "stdout",
     "output_type": "stream",
     "text": [
      "['A', 'C', 'D', 'E', 'F', 'G', 'H', 'I', 'K', 'L', 'M', 'N', 'P', 'Q', 'R', 'S', 'T', 'V', 'W', 'Y']\n",
      "\n",
      "\n",
      "{'T': 17, 'R': 15, 'P': 13, 'D': 3, 'M': 11, 'S': 16, 'L': 10, 'E': 4, 'Y': 20, 'V': 18, 'F': 5, 'W': 19, 'N': 12, 'Q': 14, 'C': 2, 'H': 7, 'G': 6, 'I': 8, 'A': 1, 'K': 9}\n",
      "20\n",
      "{'T': 17, 'R': 15, 'i': 7, 'P': 13, 'D': 3, 'M': 11, 'S': 16, 'L': 10, 'E': 4, 'Y': 20, 'V': 18, 'F': 5, 'W': 19, 'N': 12, 'Q': 14, 'C': 2, 'H': 7, 'G': 6, 'I': 8, 'A': 1, 'K': 9}\n"
     ]
    }
   ],
   "source": [
    "non_protein_chars = ['B', 'J', 'O', 'U', 'X', 'Z']\n",
    "protein_chars = [char for char in string.ascii_uppercase if char not in non_protein_chars]\n",
    "print(protein_chars)\n",
    "\n",
    "print('\\n')\n",
    "\n",
    "protein_dict = {char: i + 1 for i, char in enumerate(protein_chars) }  # +1 because enumerate starts with 0\n",
    "print(protein_dict)\n",
    "\n",
    "print(len(protein_dict.keys()))\n",
    "protein_dict['i'] = 7\n",
    "\n",
    "print(protein_dict)"
   ]
  },
  {
   "cell_type": "markdown",
   "metadata": {},
   "source": [
    "### Немного про dict"
   ]
  },
  {
   "cell_type": "markdown",
   "metadata": {},
   "source": [
    "Хеш-таблица, получение элемента по ключу за $O(1)$"
   ]
  },
  {
   "cell_type": "code",
   "execution_count": 63,
   "metadata": {
    "collapsed": false
   },
   "outputs": [
    {
     "name": "stdout",
     "output_type": "stream",
     "text": [
      "dict_keys(['T', 'R', 'P', 'D', 'M', 'S', 'L', 'E', 'Y', 'V', 'F', 'W', 'N', 'Q', 'C', 'H', 'G', 'I', 'A', 'K'])\n",
      "T: 17\n",
      "R: 15\n",
      "P: 13\n",
      "D: 3\n",
      "M: 11\n",
      "S: 16\n",
      "L: 10\n",
      "E: 4\n",
      "Y: 20\n",
      "V: 18\n",
      "F: 5\n",
      "W: 19\n",
      "N: 12\n",
      "Q: 14\n",
      "C: 2\n",
      "H: 7\n",
      "G: 6\n",
      "I: 8\n",
      "A: 1\n",
      "K: 9\n",
      "\n",
      "\n",
      "2\n"
     ]
    }
   ],
   "source": [
    "print(protein_dict.keys())\n",
    "\n",
    "for key, item in protein_dict.items():\n",
    "    print('%s: %i' % (key, item))\n",
    "    \n",
    "print('\\n')\n",
    "print(protein_dict['C'])"
   ]
  },
  {
   "cell_type": "markdown",
   "metadata": {},
   "source": [
    "## 3 Рекурсия"
   ]
  },
  {
   "cell_type": "markdown",
   "metadata": {},
   "source": [
    "- функция вызывает саму себя\n",
    "- классический пример - вычисление n-го числа Фибоначчи"
   ]
  },
  {
   "cell_type": "code",
   "execution_count": 136,
   "metadata": {
    "collapsed": false
   },
   "outputs": [
    {
     "name": "stdout",
     "output_type": "stream",
     "text": [
      "34\n"
     ]
    }
   ],
   "source": [
    "def fib(n):\n",
    "    if n==1 or n==2:\n",
    "        return 1\n",
    "    return fib(n-1) + fib(n-2)\n",
    "\n",
    "print(fib(9))"
   ]
  },
  {
   "cell_type": "markdown",
   "metadata": {},
   "source": [
    "- также нужно в работе со словарями произвольной вложенности (чем является формат JSON)"
   ]
  },
  {
   "cell_type": "code",
   "execution_count": 88,
   "metadata": {
    "collapsed": false
   },
   "outputs": [
    {
     "name": "stdout",
     "output_type": "stream",
     "text": [
      "{'finish': {'final': 3}, 'start': {'next': {'hello': 1, 'MIPT': 2}}}\n",
      "\n",
      "\n",
      "3\n",
      "1\n",
      "2\n"
     ]
    }
   ],
   "source": [
    "json_dict_example = {\n",
    "    'start': {\n",
    "        'next': {\n",
    "            'hello': 1,\n",
    "            'MIPT': 2\n",
    "        }\n",
    "    },\n",
    "    \n",
    "     'finish': {\n",
    "        'final' : 3\n",
    "    }\n",
    "}\n",
    "\n",
    "print(json_dict_example)\n",
    "print('\\n')\n",
    "\n",
    "def print_dict_items(json_element):\n",
    "    if type(json_element) != dict:\n",
    "        print(json_element)\n",
    "        return\n",
    "    \n",
    "    for key, item in json_element.items():\n",
    "        print_dict_items(item)\n",
    "    \n",
    "    \n",
    "    \n",
    "print_dict_items(json_dict_example)"
   ]
  },
  {
   "cell_type": "markdown",
   "metadata": {},
   "source": [
    "## 4 Обход суффиксного дерева"
   ]
  },
  {
   "cell_type": "markdown",
   "metadata": {},
   "source": [
    " Подсчёт потомков"
   ]
  },
  {
   "cell_type": "markdown",
   "metadata": {},
   "source": [
    "![alt text](Selection_097.png)"
   ]
  },
  {
   "cell_type": "code",
   "execution_count": 137,
   "metadata": {
    "collapsed": false
   },
   "outputs": [
    {
     "name": "stdout",
     "output_type": "stream",
     "text": [
      "4\n"
     ]
    }
   ],
   "source": [
    "nodes = [\n",
    "    [3,4,5],\n",
    "    [],\n",
    "    [],\n",
    "    [1, 2],\n",
    "    [],\n",
    "    []\n",
    "]\n",
    "\n",
    "edges = [\n",
    "    \"\",\n",
    "    \"TA$\",\n",
    "    \"A$\",\n",
    "    \"T\",\n",
    "    \"A$\",\n",
    "    \"$\"\n",
    "]\n",
    "\n",
    "def leaves_count(i, nodes):\n",
    "    if len(nodes[i]) == 0:\n",
    "        return 1\n",
    "    \n",
    "    count = 0\n",
    "    for j in nodes[i]:\n",
    "        count += leaves_count(j, nodes)\n",
    "        \n",
    "    return count\n",
    "    \n",
    "print(leaves_count(0, nodes))"
   ]
  },
  {
   "cell_type": "markdown",
   "metadata": {},
   "source": [
    "## 5 Читабельность кода"
   ]
  },
  {
   "cell_type": "markdown",
   "metadata": {},
   "source": [
    "* Вы пишете код для других\n",
    "* Понятные имена переменных (не бойтесь, что получается не очень коротко)\n",
    "* Константы с понятными именами - это хорошо\n",
    "\n",
    "```\n",
    "DOWN = '|'\n",
    "RIGHT = '-'\n",
    "DIAGONAL = '/'\n",
    "```\n",
    "     и если захочется поменять '-' на '*', не придётся делать опасный FIND & REPLACE\n",
    "     \n",
    "* Комментарии к **алгоритмам** - это хорошо\n",
    "* PEP style guide: https://www.python.org/dev/peps/pep-0008/\n",
    "* Меньше if'ов и ветвлений, например:"
   ]
  },
  {
   "cell_type": "code",
   "execution_count": 138,
   "metadata": {
    "collapsed": false
   },
   "outputs": [
    {
     "name": "stdout",
     "output_type": "stream",
     "text": [
      "arg is a\n",
      "arg is not a\n",
      "\n",
      "\n",
      "arg is a\n",
      "arg is not a\n"
     ]
    }
   ],
   "source": [
    "def foo_bad(arg):\n",
    "    if arg == 'a':\n",
    "        print('arg is a')\n",
    "    else:\n",
    "        print('arg is not a')\n",
    "        \n",
    "def foo_good(arg):\n",
    "    if arg == 'a':\n",
    "        print('arg is a')\n",
    "        return\n",
    "    print('arg is not a')\n",
    "\n",
    "foo_bad('a')\n",
    "foo_bad('b')\n",
    "\n",
    "print('\\n')\n",
    "\n",
    "foo_bad('a')\n",
    "foo_bad('c')\n",
    "\n"
   ]
  }
 ],
 "metadata": {
  "kernelspec": {
   "display_name": "Python 3",
   "language": "python",
   "name": "python3"
  },
  "language_info": {
   "codemirror_mode": {
    "name": "ipython",
    "version": 3
   },
   "file_extension": ".py",
   "mimetype": "text/x-python",
   "name": "python",
   "nbconvert_exporter": "python",
   "pygments_lexer": "ipython3",
   "version": "3.4.5"
  }
 },
 "nbformat": 4,
 "nbformat_minor": 0
}
